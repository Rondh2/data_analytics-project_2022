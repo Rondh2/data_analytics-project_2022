{
 "cells": [
  {
   "cell_type": "markdown",
   "id": "a54aa723",
   "metadata": {},
   "source": [
    "<div>    \n",
    "<img src=\"https://user-images.githubusercontent.com/104062440/169532038-d7046899-433a-46ca-bf3f-42bbcf6b2bb3.png\" width=\"500\" height=\"400\" align=\"center\"/>\n",
    "</div>"
   ]
  },
  {
   "cell_type": "markdown",
   "id": "4f647341",
   "metadata": {},
   "source": [
    "## Group Number: 30\n",
    "### Members:\n",
    "- Rotem Liani\n",
    "\n",
    "- Ron Steinmtz\n",
    "\n",
    "- Shahar Torgeman\n",
    "\n",
    "- Adir Sheri\n",
    "___\n",
    "##### Git: https://github.com/rotemliani/data_analytics-project_2022\n",
    "___"
   ]
  },
  {
   "cell_type": "code",
   "execution_count": null,
   "id": "55ce0b64",
   "metadata": {},
   "outputs": [],
   "source": [
    "pip install plotly"
   ]
  },
  {
   "cell_type": "code",
   "execution_count": null,
   "id": "ebaea14b",
   "metadata": {},
   "outputs": [],
   "source": [
    "pip install cufflinks"
   ]
  },
  {
   "cell_type": "code",
   "execution_count": 1,
   "id": "ec02c5b2-26cb-4bee-97fd-969164e2641f",
   "metadata": {},
   "outputs": [
    {
     "data": {
      "text/html": [
       "        <script type=\"text/javascript\">\n",
       "        window.PlotlyConfig = {MathJaxConfig: 'local'};\n",
       "        if (window.MathJax && window.MathJax.Hub && window.MathJax.Hub.Config) {window.MathJax.Hub.Config({SVG: {font: \"STIX-Web\"}});}\n",
       "        if (typeof require !== 'undefined') {\n",
       "        require.undef(\"plotly\");\n",
       "        requirejs.config({\n",
       "            paths: {\n",
       "                'plotly': ['https://cdn.plot.ly/plotly-2.12.1.min']\n",
       "            }\n",
       "        });\n",
       "        require(['plotly'], function(Plotly) {\n",
       "            window._Plotly = Plotly;\n",
       "        });\n",
       "        }\n",
       "        </script>\n",
       "        "
      ]
     },
     "metadata": {},
     "output_type": "display_data"
    }
   ],
   "source": [
    "import numpy as np\n",
    "import pandas as pd\n",
    "import seaborn as sns\n",
    "from matplotlib import pyplot as plt\n",
    "import plotly\n",
    "# connected=True means it will download the latest version of plotly javascript library.\n",
    "plotly.offline.init_notebook_mode(connected=True)\n",
    "import plotly.graph_objs as go\n",
    "import plotly.figure_factory as ff\n",
    "import cufflinks as cf\n",
    "\n",
    "plt.style.use('ggplot')"
   ]
  },
  {
   "cell_type": "code",
   "execution_count": 2,
   "id": "ec4eb798-b2b6-4be3-9e8d-b1f83415ca45",
   "metadata": {},
   "outputs": [],
   "source": [
    "df = pd.read_csv(\"https://raw.githubusercontent.com/rotemliani/data_analytics-project_2022/main/Google-Playstore.csv\")"
   ]
  },
  {
   "cell_type": "code",
   "execution_count": null,
   "id": "48f8382a-1f36-41ee-8506-cf0c97c32163",
   "metadata": {},
   "outputs": [],
   "source": [
    "df.head(5)"
   ]
  },
  {
   "cell_type": "code",
   "execution_count": 3,
   "id": "574e485d",
   "metadata": {},
   "outputs": [
    {
     "data": {
      "text/html": [
       "<div>\n",
       "<style scoped>\n",
       "    .dataframe tbody tr th:only-of-type {\n",
       "        vertical-align: middle;\n",
       "    }\n",
       "\n",
       "    .dataframe tbody tr th {\n",
       "        vertical-align: top;\n",
       "    }\n",
       "\n",
       "    .dataframe thead th {\n",
       "        text-align: right;\n",
       "    }\n",
       "</style>\n",
       "<table border=\"1\" class=\"dataframe\">\n",
       "  <thead>\n",
       "    <tr style=\"text-align: right;\">\n",
       "      <th></th>\n",
       "      <th>App Name</th>\n",
       "      <th>Category</th>\n",
       "      <th>Rating</th>\n",
       "      <th>Rating Count</th>\n",
       "      <th>Installs</th>\n",
       "      <th>Maximum Installs</th>\n",
       "      <th>Price</th>\n",
       "      <th>Size</th>\n",
       "      <th>Released</th>\n",
       "      <th>Content Rating</th>\n",
       "      <th>Ad Supported</th>\n",
       "      <th>In App Purchases</th>\n",
       "      <th>year</th>\n",
       "      <th>month</th>\n",
       "    </tr>\n",
       "  </thead>\n",
       "  <tbody>\n",
       "    <tr>\n",
       "      <th>0</th>\n",
       "      <td>Gakondo</td>\n",
       "      <td>Adventure</td>\n",
       "      <td>0.0</td>\n",
       "      <td>0.0</td>\n",
       "      <td>10.0</td>\n",
       "      <td>15</td>\n",
       "      <td>0.0</td>\n",
       "      <td>10M</td>\n",
       "      <td>Feb 26, 2020</td>\n",
       "      <td>Everyone</td>\n",
       "      <td>False</td>\n",
       "      <td>False</td>\n",
       "      <td>2020.0</td>\n",
       "      <td>2.0</td>\n",
       "    </tr>\n",
       "    <tr>\n",
       "      <th>1</th>\n",
       "      <td>Ampere Battery Info</td>\n",
       "      <td>Tools</td>\n",
       "      <td>4.4</td>\n",
       "      <td>64.0</td>\n",
       "      <td>5000.0</td>\n",
       "      <td>7662</td>\n",
       "      <td>0.0</td>\n",
       "      <td>2.9M</td>\n",
       "      <td>May 21, 2020</td>\n",
       "      <td>Everyone</td>\n",
       "      <td>True</td>\n",
       "      <td>False</td>\n",
       "      <td>2020.0</td>\n",
       "      <td>5.0</td>\n",
       "    </tr>\n",
       "    <tr>\n",
       "      <th>2</th>\n",
       "      <td>Vibook</td>\n",
       "      <td>Productivity</td>\n",
       "      <td>0.0</td>\n",
       "      <td>0.0</td>\n",
       "      <td>50.0</td>\n",
       "      <td>58</td>\n",
       "      <td>0.0</td>\n",
       "      <td>3.7M</td>\n",
       "      <td>Aug 9, 2019</td>\n",
       "      <td>Everyone</td>\n",
       "      <td>False</td>\n",
       "      <td>False</td>\n",
       "      <td>2019.0</td>\n",
       "      <td>8.0</td>\n",
       "    </tr>\n",
       "    <tr>\n",
       "      <th>3</th>\n",
       "      <td>Smart City Trichy Public Service Vehicles 17UC...</td>\n",
       "      <td>Communication</td>\n",
       "      <td>5.0</td>\n",
       "      <td>5.0</td>\n",
       "      <td>10.0</td>\n",
       "      <td>19</td>\n",
       "      <td>0.0</td>\n",
       "      <td>1.8M</td>\n",
       "      <td>Sep 10, 2018</td>\n",
       "      <td>Everyone</td>\n",
       "      <td>True</td>\n",
       "      <td>False</td>\n",
       "      <td>2018.0</td>\n",
       "      <td>9.0</td>\n",
       "    </tr>\n",
       "    <tr>\n",
       "      <th>4</th>\n",
       "      <td>GROW.me</td>\n",
       "      <td>Tools</td>\n",
       "      <td>0.0</td>\n",
       "      <td>0.0</td>\n",
       "      <td>100.0</td>\n",
       "      <td>478</td>\n",
       "      <td>0.0</td>\n",
       "      <td>6.2M</td>\n",
       "      <td>Feb 21, 2020</td>\n",
       "      <td>Everyone</td>\n",
       "      <td>False</td>\n",
       "      <td>False</td>\n",
       "      <td>2020.0</td>\n",
       "      <td>2.0</td>\n",
       "    </tr>\n",
       "  </tbody>\n",
       "</table>\n",
       "</div>"
      ],
      "text/plain": [
       "                                            App Name       Category  Rating  \\\n",
       "0                                            Gakondo      Adventure     0.0   \n",
       "1                                Ampere Battery Info          Tools     4.4   \n",
       "2                                             Vibook   Productivity     0.0   \n",
       "3  Smart City Trichy Public Service Vehicles 17UC...  Communication     5.0   \n",
       "4                                            GROW.me          Tools     0.0   \n",
       "\n",
       "   Rating Count  Installs  Maximum Installs  Price  Size      Released  \\\n",
       "0           0.0      10.0                15    0.0   10M  Feb 26, 2020   \n",
       "1          64.0    5000.0              7662    0.0  2.9M  May 21, 2020   \n",
       "2           0.0      50.0                58    0.0  3.7M   Aug 9, 2019   \n",
       "3           5.0      10.0                19    0.0  1.8M  Sep 10, 2018   \n",
       "4           0.0     100.0               478    0.0  6.2M  Feb 21, 2020   \n",
       "\n",
       "  Content Rating  Ad Supported  In App Purchases    year  month  \n",
       "0       Everyone         False             False  2020.0    2.0  \n",
       "1       Everyone          True             False  2020.0    5.0  \n",
       "2       Everyone         False             False  2019.0    8.0  \n",
       "3       Everyone          True             False  2018.0    9.0  \n",
       "4       Everyone         False             False  2020.0    2.0  "
      ]
     },
     "execution_count": 3,
     "metadata": {},
     "output_type": "execute_result"
    }
   ],
   "source": [
    "df['year'] = pd.DatetimeIndex(df['Released']).year\n",
    "df['month'] = pd.DatetimeIndex(df['Released']).month\n",
    "df.head(5)"
   ]
  },
  {
   "cell_type": "code",
   "execution_count": null,
   "id": "f0bfa041",
   "metadata": {},
   "outputs": [],
   "source": [
    "df=df.groupby('year')"
   ]
  },
  {
   "cell_type": "code",
   "execution_count": null,
   "id": "4189deb6",
   "metadata": {},
   "outputs": [],
   "source": [
    "sns.set_style('darkgrid')\n",
    "fig, ax = plt.subplots()\n",
    "fig.set_size_inches(15, 8)\n",
    "p = sns.stripplot(x=\"Price\", y=\"Category\", data=df, jitter=True, linewidth=1)\n",
    "title = ax.set_title('Apps Price By Category')"
   ]
  },
  {
   "cell_type": "markdown",
   "id": "e8d5881e",
   "metadata": {},
   "source": [
    "כמות הורדות של < שינוי מחירים לאורך השנים (עלייה חדה בשנה 2020 > )"
   ]
  },
  {
   "cell_type": "code",
   "execution_count": null,
   "id": "435632bb",
   "metadata": {},
   "outputs": [],
   "source": [
    "df_free = df.loc[df.Price == 0.00].copy()\n",
    "df_paid = df.loc[df.Price > 0 ].copy()\n",
    "df_paid.pivot_table(index =\"Year\",column=df_paid[\"Price\"].mean)"
   ]
  },
  {
   "cell_type": "code",
   "execution_count": null,
   "id": "9d55e5c5",
   "metadata": {},
   "outputs": [],
   "source": [
    "gg = df_paid.groupby(\"\",as_index = False)[\"Price\"].mean()\n",
    "gg.plot(x=\"Year\",y=\"Price\",color=\"Blue\")"
   ]
  },
  {
   "cell_type": "code",
   "execution_count": null,
   "id": "ee8d574b",
   "metadata": {},
   "outputs": [],
   "source": [
    "from bokeh.io import output_notebook\n",
    "from bokeh.plotting import figure, show\n",
    "fig = figure()"
   ]
  },
  {
   "cell_type": "code",
   "execution_count": null,
   "id": "e3e3fce8",
   "metadata": {},
   "outputs": [],
   "source": [
    "from bokeh.io import output_file\n",
    "from bokeh.models.widgets import Tabs, Panel\n",
    "\n",
    "# Output to file\n",
    "output_file('east-west-top-2-tabbed_layout.html', \n",
    "            title='try')\n",
    "\n",
    "# Increase the plot widths\n",
    "east_fig.plot_width = west_fig.plot_width = 800\n",
    "\n",
    "# Create two panels, one for each conference\n",
    "Free = Panel(child=east_fig, title='Eastern Conference')\n",
    "Paid = Panel(child=west_fig, title='Western Conference')\n",
    "\n",
    "# Assign the panels to Tabs\n",
    "tabs = Tabs(tabs=[west_panel, east_panel])\n",
    "\n",
    "# Show the tabbed layout\n",
    "show(tabs)"
   ]
  },
  {
   "cell_type": "code",
   "execution_count": null,
   "id": "6c75b592",
   "metadata": {},
   "outputs": [],
   "source": []
  },
  {
   "cell_type": "code",
   "execution_count": null,
   "id": "af7a8239",
   "metadata": {},
   "outputs": [],
   "source": [
    "from bokeh.plotting import figure, show\n",
    "from bokeh.io import output_file\n",
    "from bokeh.layouts import column\n",
    "\n",
    "# Output to file\n",
    "output_file('east-west-top-2-standings-race.html', \n",
    "            title='Conference Top 2 Teams Wins Race')\n",
    "\n",
    "# Plot the two visualizations in a vertical configuration\n",
    "show(column(west_fig, east_fig))"
   ]
  },
  {
   "cell_type": "code",
   "execution_count": null,
   "id": "dfff0649",
   "metadata": {},
   "outputs": [],
   "source": []
  },
  {
   "cell_type": "markdown",
   "id": "41a96fc9",
   "metadata": {},
   "source": [
    "- rotem פתיח"
   ]
  },
  {
   "cell_type": "markdown",
   "id": "7ad6f008",
   "metadata": {},
   "source": [
    "סידור דאטה - adir\n",
    "\n",
    "- \n",
    "\n",
    "missing_values = df.isnull().sum()\n",
    "missing_values\n",
    "\n",
    "# check i fmissing values is importentעמודה חדשה חינם ותשלום מספר אפליקציות"
   ]
  },
  {
   "cell_type": "code",
   "execution_count": null,
   "id": "fbbcbe1b",
   "metadata": {},
   "outputs": [],
   "source": [
    "- שחרלאורך השנים אם יש מגמת עלייה או ירידה ואם יש נקודות משמעותיות"
   ]
  },
  {
   "cell_type": "markdown",
   "id": "e30f84dd",
   "metadata": {},
   "source": [
    " - בדיקת קטגוריות - האם יש יותר אפליקציות בתשלום מקטגוריה מיסויימת או קטגוריות פופולריות (מה מורידים יותר)\n",
    "   (רון) האם ניתן להצביע על קטגוריה שמורידים ממנה יותר בחינם ובתשלום לא האם יש קשר בין כמות האלפיקציות בחנות לבין כמות ההורדות "
   ]
  },
  {
   "cell_type": "markdown",
   "id": "8df44dbc",
   "metadata": {},
   "source": [
    "בדיקה אם לאורך השנים המחיר עלה או ירד לפי קטגוריה מסויימת והאם יש שינוי בכמות ההוצאות של האפליקציות בחינם או בתשלום \n",
    "\n",
    "גרף שמראה קטגוריות מתחלפות שאפשר ללחוץ ולראות איזה קטגוריה הורידו בתקופות זמן שונות\n"
   ]
  },
  {
   "cell_type": "markdown",
   "id": "4774f773",
   "metadata": {},
   "source": []
  },
  {
   "cell_type": "code",
   "execution_count": null,
   "id": "54fa3b25",
   "metadata": {},
   "outputs": [],
   "source": []
  },
  {
   "cell_type": "markdown",
   "id": "f4885841",
   "metadata": {},
   "source": [
    "It seems that the Paid For apps have a higher average rating than the Free apps.\n",
    "\n",
    "This could be attributed to the larger amount of people who rated the Free apps as oppose to the Paid ones. The larger amount of people might account for the bigger spread of the rating, as more people could have rated the apps with a low rating"
   ]
  },
  {
   "cell_type": "code",
   "execution_count": null,
   "id": "96ad8893",
   "metadata": {},
   "outputs": [],
   "source": []
  },
  {
   "cell_type": "code",
   "execution_count": null,
   "id": "b9d99c6c",
   "metadata": {},
   "outputs": [],
   "source": []
  },
  {
   "cell_type": "code",
   "execution_count": null,
   "id": "f467b708",
   "metadata": {},
   "outputs": [],
   "source": []
  },
  {
   "cell_type": "code",
   "execution_count": 5,
   "id": "2fd3ecfa",
   "metadata": {},
   "outputs": [
    {
     "name": "stdout",
     "output_type": "stream",
     "text": [
      "F_onewayResult(statistic=nan, pvalue=nan)\n",
      "\n",
      "The p-value is extremely small, hence we reject the null hypothesis in favor of the alternate hypothesis.\n",
      "\n"
     ]
    }
   ],
   "source": [
    "import scipy.stats as stats\n",
    "f = stats.f_oneway(df.loc[df.Category == 'Adventured']['Price'].dropna(), \n",
    "               df.loc[df.Category == 'Tools']['Price'].dropna())\n",
    "\n",
    "print(f)\n",
    "print('\\nThe p-value is extremely small, hence we reject the null hypothesis in favor of the alternate hypothesis.\\n')\n",
    "#temp = df.loc[df.Category.isin(['BUSINESS', 'DATING'])]\n",
    "\n",
    "# groups = df.groupby('Category').filter(lambda x: len(x) > 286).reset_index()\n",
    "# array = groups['Rating'].hist(by=groups['Category'], sharex=True, figsize=(20,20))"
   ]
  },
  {
   "cell_type": "code",
   "execution_count": null,
   "id": "3d7f4394",
   "metadata": {},
   "outputs": [],
   "source": []
  }
 ],
 "metadata": {
  "kernelspec": {
   "display_name": "Python 3 (ipykernel)",
   "language": "python",
   "name": "python3"
  },
  "language_info": {
   "codemirror_mode": {
    "name": "ipython",
    "version": 3
   },
   "file_extension": ".py",
   "mimetype": "text/x-python",
   "name": "python",
   "nbconvert_exporter": "python",
   "pygments_lexer": "ipython3",
   "version": "3.9.7"
  }
 },
 "nbformat": 4,
 "nbformat_minor": 5
}
